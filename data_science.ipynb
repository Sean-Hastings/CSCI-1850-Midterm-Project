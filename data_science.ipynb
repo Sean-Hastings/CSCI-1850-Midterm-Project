{
 "cells": [
  {
   "cell_type": "code",
   "execution_count": 1,
   "metadata": {},
   "outputs": [],
   "source": [
    "import torch\n",
    "import numpy as np\n",
    "import copy\n",
    "import matplotlib.pyplot as plt"
   ]
  },
  {
   "cell_type": "code",
   "execution_count": 2,
   "metadata": {},
   "outputs": [],
   "source": [
    "inputs = torch.load('train_in.pt')\n",
    "outputs = torch.load('train_out.pt')\n",
    "np_ins = inputs.numpy()\n",
    "np_outs = outputs.numpy()"
   ]
  },
  {
   "cell_type": "code",
   "execution_count": 3,
   "metadata": {},
   "outputs": [],
   "source": [
    "# BASIC STATS #"
   ]
  },
  {
   "cell_type": "code",
   "execution_count": 4,
   "metadata": {},
   "outputs": [
    {
     "name": "stdout",
     "output_type": "stream",
     "text": [
      "Output Mean: -0.283\n",
      "Output Variance: 3.553\n"
     ]
    },
    {
     "data": {
      "image/png": "[encoded data removed]",
      "text/plain": [
       "<Figure size 432x288 with 1 Axes>"
      ]
     },
     "metadata": {
      "needs_background": "light"
     },
     "output_type": "display_data"
    }
   ],
   "source": [
    "# Outputs\n",
    "print('Output Mean: %.3f' % torch.mean(outputs))\n",
    "print('Output Variance: %.3f' % torch.std(outputs)**2)\n",
    "outputs_histogram = plt.hist(np_outs, 1000)"
   ]
  },
  {
   "cell_type": "code",
   "execution_count": 5,
   "metadata": {},
   "outputs": [
    {
     "name": "stdout",
     "output_type": "stream",
     "text": [
      "Input Mean: 0.867\n",
      "Input Variance: 0.921\n"
     ]
    },
    {
     "data": {
      "image/png": "[encoded data removed]",
      "text/plain": [
       "<Figure size 432x288 with 1 Axes>"
      ]
     },
     "metadata": {
      "needs_background": "light"
     },
     "output_type": "display_data"
    }
   ],
   "source": [
    "# Inputs\n",
    "\n",
    "# Overall\n",
    "print('Input Mean: %.3f' % torch.mean(inputs))\n",
    "print('Input Variance: %.3f' % torch.std(inputs)**2)\n",
    "inputs_histogram = plt.hist(np_ins.reshape(-1), 25, log=True)"
   ]
  },
  {
   "cell_type": "code",
   "execution_count": 6,
   "metadata": {},
   "outputs": [
    {
     "name": "stdout",
     "output_type": "stream",
     "text": [
      "Histone 1 Input Mean: 0.702\n",
      "Histone 1 Input Variance: 0.530\n",
      "Histone 2 Input Mean: 0.708\n",
      "Histone 2 Input Variance: 0.495\n",
      "Histone 3 Input Mean: 0.977\n",
      "Histone 3 Input Variance: 0.675\n",
      "Histone 4 Input Mean: 1.470\n",
      "Histone 4 Input Variance: 2.116\n",
      "Histone 5 Input Mean: 0.502\n",
      "Histone 5 Input Variance: 0.324\n"
     ]
    },
    {
     "data": {
      "image/png": "[encoded data removed]",
      "text/plain": [
       "<Figure size 432x288 with 1 Axes>"
      ]
     },
     "metadata": {
      "needs_background": "light"
     },
     "output_type": "display_data"
    }
   ],
   "source": [
    "# Per Histone\n",
    "for i_histone in range(5):\n",
    "    print('Histone %d Input Mean: %.3f' % (i_histone+1, torch.mean(inputs[:, i_histone])))\n",
    "    print('Histone %d Input Variance: %.3f' % (i_histone+1, torch.std(inputs[:, i_histone])**2))\n",
    "histogram = plt.hist([np_ins[:,i].reshape(-1) for i in range(5)], 25, log=True)"
   ]
  },
  {
   "cell_type": "code",
   "execution_count": null,
   "metadata": {},
   "outputs": [
    {
     "name": "stdout",
     "output_type": "stream",
     "text": [
      "Mean:\n"
     ]
    },
    {
     "data": {
      "image/png": "[encoded data removed]",
      "text/plain": [
       "<Figure size 432x288 with 1 Axes>"
      ]
     },
     "metadata": {
      "needs_background": "light"
     },
     "output_type": "display_data"
    },
    {
     "name": "stdout",
     "output_type": "stream",
     "text": [
      "Variance:\n"
     ]
    }
   ],
   "source": [
    "# Per Cell\n",
    "print('Mean:')\n",
    "mean_input = plt.imshow(np.mean(np_ins, axis=0))\n",
    "plt.show()\n",
    "print('Variance:')\n",
    "variance_input = plt.imshow(np.std(np_ins, axis=0)**2)\n",
    "plt.show()\n",
    "print('This shows that almost all of the \"action\" is in a very specific region of one histone modification.')"
   ]
  },
  {
   "cell_type": "code",
   "execution_count": null,
   "metadata": {},
   "outputs": [],
   "source": [
    "pos_inds = np_outs > 4\n",
    "neg_inds = np_outs < -4\n",
    "pos_examples = np.concatenate([np_ins.reshape(-1, 500)[pos_inds][:200], np_outs[pos_inds][:200].reshape(-1, 1)], axis=1)\n",
    "neg_examples = np.concatenate([np_ins.reshape(-1, 500)[neg_inds][:200], np_outs[neg_inds][:200].reshape(-1, 1)], axis=1)\n",
    "plt.imshow(np.concatenate([pos_examples, neg_examples], axis=0))\n",
    "plt.show()\n",
    "\n",
    "print('Note how similar the most positive and most negative examples are.')"
   ]
  },
  {
   "cell_type": "code",
   "execution_count": null,
   "metadata": {},
   "outputs": [],
   "source": [
    "nph_ins = np.concatenate([np_ins[:, :3], np_ins[:, 4:]], axis=1)\n",
    "print(nph_ins.shape)\n",
    "\n",
    "print('If we take out the dominant histone we get the following:')"
   ]
  },
  {
   "cell_type": "code",
   "execution_count": null,
   "metadata": {},
   "outputs": [],
   "source": [
    "# Overall\n",
    "print('Input Mean: %.3f' % torch.mean(inputs))\n",
    "print('Input Variance: %.3f' % torch.std(inputs)**2)\n",
    "inputs_histogram = plt.hist(nph_ins.reshape(-1), 25, log=True)"
   ]
  },
  {
   "cell_type": "code",
   "execution_count": null,
   "metadata": {},
   "outputs": [],
   "source": [
    "# Per Cell\n",
    "print('Mean:')\n",
    "mean_input = plt.imshow(np.mean(nph_ins, axis=0))\n",
    "plt.show()\n",
    "print('Variance:')\n",
    "variance_input = plt.imshow(np.std(nph_ins, axis=0)**2)\n",
    "plt.show()"
   ]
  },
  {
   "cell_type": "code",
   "execution_count": null,
   "metadata": {},
   "outputs": [],
   "source": [
    "pos_inds = np_outs > 4\n",
    "neg_inds = np_outs < -4\n",
    "pos_examples = np.concatenate([nph_ins.reshape(-1, 400)[pos_inds][:200], np_outs[pos_inds][:200].reshape(-1, 1)], axis=1)\n",
    "neg_examples = np.concatenate([nph_ins.reshape(-1, 400)[neg_inds][:200], np_outs[neg_inds][:200].reshape(-1, 1)], axis=1)\n",
    "plt.imshow(np.concatenate([pos_examples, neg_examples], axis=0))\n",
    "plt.show()"
   ]
  },
  {
   "cell_type": "code",
   "execution_count": null,
   "metadata": {},
   "outputs": [],
   "source": [
    "# Per Cell Type\n",
    "num_cells = 48\n",
    "cell_samples = inputs.size(0) // num_cells\n",
    "cells = [(np_ins[i*cell_samples:(i+1)*cell_samples], np_outs[i*cell_samples:(i+1)*cell_samples]) for i in range(num_cells)]\n",
    "print(cells[-1][0].shape)\n",
    "print(cells[-1][1].shape)"
   ]
  },
  {
   "cell_type": "code",
   "execution_count": null,
   "metadata": {},
   "outputs": [],
   "source": [
    "for i in range(num_cells):\n",
    "    print('Output distribution for cell %d' % (i+1))\n",
    "    plt.hist(cells[i][1], 100)\n",
    "    plt.show()"
   ]
  },
  {
   "cell_type": "code",
   "execution_count": null,
   "metadata": {},
   "outputs": [],
   "source": [
    "for i in range(num_cells):\n",
    "    print('Output distribution for cell %d' % (i+1))\n",
    "    plt.imshow(cells[i][0].mean(axis=0))\n",
    "    plt.show()"
   ]
  },
  {
   "cell_type": "code",
   "execution_count": null,
   "metadata": {},
   "outputs": [],
   "source": [
    "# How to resample away those peaks??"
   ]
  },
  {
   "cell_type": "code",
   "execution_count": null,
   "metadata": {},
   "outputs": [],
   "source": [
    "print('What if we just resample the dataset according to the square root of the magnitude of the targets?')\n",
    "\n",
    "i_outs = torch.multinomial(torch.abs(outputs)**(1/2.5), outputs.size(0), replacement=True)\n",
    "newouts = outputs[i_outs]\n",
    "\n",
    "print('Output Mean: %.3f' % torch.mean(newouts))\n",
    "print('Output Variance: %.3f' % torch.std(newouts)**2)\n",
    "outputs_histogram = plt.hist(newouts, 1000)\n",
    "\n",
    "print('Eh, not that much better, although it is something.')"
   ]
  },
  {
   "cell_type": "code",
   "execution_count": null,
   "metadata": {},
   "outputs": [],
   "source": [
    "print(\"Let's say we want to resample our data to be approximately normal:\")\n",
    "\n",
    "centered_outputs = outputs - torch.mean(outputs)\n",
    "normal_ = torch.randn(outputs.size(0))*1.5\n",
    "#i_outs = torch.multinomial(outputs, outputs.size(0), replacement=True)\n",
    "#newouts = outputs[i_outs]\n",
    "\n",
    "print('Output Mean: %.3f' % torch.mean(centered_outputs))\n",
    "print('Output Variance: %.3f' % torch.std(centered_outputs)**2)\n",
    "outputs_histogram = plt.hist(centered_outputs, 1000, (-4.5, 6))\n",
    "plt.show()\n",
    "\n",
    "print('Output Mean: %.3f' % torch.mean(normal_))\n",
    "print('Output Variance: %.3f' % torch.std(normal_)**2)\n",
    "normal_histogram = plt.hist(normal_, 1000, (-4.5, 6))\n",
    "plt.show()"
   ]
  },
  {
   "cell_type": "code",
   "execution_count": null,
   "metadata": {},
   "outputs": [],
   "source": [
    "print('To resample to normal we need the transformation distribution between our sample distribution and the normal distribution:')\n",
    "\n",
    "# normal = adjust x sample\n",
    "# adjust = normal / sample\n",
    "new_histogram = normal_histogram[0] / (outputs_histogram[0] + 1e-6)\n",
    "new_histogram = new_histogram / (np.sum(new_histogram * outputs_histogram[0]) * 0.0105)\n",
    "plt.plot(normal_histogram[1][:-1], new_histogram)\n",
    "plt.show()\n",
    "print(np.sum(new_histogram) * 0.0105)\n",
    "\n",
    "reconstruction = new_histogram * outputs_histogram[0]\n",
    "plt.plot(normal_histogram[1][:-1], reconstruction)\n",
    "plt.show()\n",
    "print(np.sum(reconstruction) * 0.0105)"
   ]
  },
  {
   "cell_type": "code",
   "execution_count": null,
   "metadata": {},
   "outputs": [],
   "source": [
    "print('To actually perform the resampling, we need to create a pdf over the indices of our dataset such that when sampled it is approximately normal as above:')\n",
    "\n",
    "# How to use the new histogram to sample from the sample distribution?\n",
    "# have to line up the outputs for sampling?\n",
    "logits = centered_outputs\n",
    "log_ins = inputs\n",
    "log_ins = log_ins[logits > -4.5]\n",
    "logits = logits[logits > -4.5]\n",
    "log_ins = log_ins[logits < 6]\n",
    "logits = logits[logits < 6]\n",
    "logits2 = copy.deepcopy(logits)\n",
    "for idx, edges in enumerate(np.stack([normal_histogram[1][:-1], normal_histogram[1][1:]], axis=1)):\n",
    "    logits2[(logits >= edges[0]) * (logits <= edges[1])] = new_histogram[idx]\n",
    "\n",
    "plt.hist(logits2, 100)\n",
    "plt.show()\n",
    "\n",
    "'''\n",
    "Idea:\n",
    "sort logits, rescale i_outs to be 0 to logits.shape[0] rather than 0 to 1000, and maybe add a little noise\n",
    "'''\n",
    "\n",
    "i_outs = torch.multinomial(logits2, outputs.size(0), replacement=True)\n",
    "plt.hist(i_outs, 100)\n",
    "plt.show()\n",
    "#resampled = torch.cat([logits[logits2 == i_out][0:1] for i_out in i_outs])\n",
    "#i_outs = (i_outs * multiplier + torch.rand(i_outs.shape)*multiplier).long()\n",
    "resampled = logits[i_outs]\n",
    "resampled_inputs = log_ins[i_outs]\n",
    "\n",
    "\n",
    "print('Output Mean: %.3f' % torch.mean(resampled.float()))\n",
    "print('Output Variance: %.3f' % torch.std(resampled.float())**2)\n",
    "outputs_histogram = plt.hist(resampled.numpy(), 1000)"
   ]
  },
  {
   "cell_type": "code",
   "execution_count": null,
   "metadata": {},
   "outputs": [],
   "source": [
    "print('Save that resampled data!')\n",
    "\n",
    "torch.save(resampled, 'resampled_out.pt')\n",
    "torch.save(resampled_inputs, 'resampled_in.pt')"
   ]
  },
  {
   "cell_type": "code",
   "execution_count": null,
   "metadata": {},
   "outputs": [],
   "source": []
  }
 ],
 "metadata": {
  "kernelspec": {
   "display_name": "Python 3",
   "language": "python",
   "name": "python3"
  },
  "language_info": {
   "codemirror_mode": {
    "name": "ipython",
    "version": 3
   },
   "file_extension": ".py",
   "mimetype": "text/x-python",
   "name": "python",
   "nbconvert_exporter": "python",
   "pygments_lexer": "ipython3",
   "version": "3.7.4"
  }
 },
 "nbformat": 4,
 "nbformat_minor": 2
}
